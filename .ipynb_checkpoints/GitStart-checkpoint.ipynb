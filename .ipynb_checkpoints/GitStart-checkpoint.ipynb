{
 "cells": [
  {
   "cell_type": "code",
   "execution_count": 1,
   "id": "48e29244-725a-4c40-8c77-f9e973d01aef",
   "metadata": {},
   "outputs": [
    {
     "name": "stdout",
     "output_type": "stream",
     "text": [
      " Volume in drive D is Work\n",
      " Volume Serial Number is 2299-FA8E\n",
      "\n",
      " Directory of D:\\“зсЎ \\5th_year\\Vega\\FinanceEconometrics\\Project1_new\n",
      "\n",
      "10/19/2024  09:50 PM    <DIR>          .\n",
      "10/19/2024  09:50 PM    <DIR>          ..\n",
      "10/19/2024  09:50 PM    <DIR>          .ipynb_checkpoints\n",
      "10/19/2024  09:44 PM             3,974 GitStart.ipynb\n",
      "               1 File(s)          3,974 bytes\n",
      "               3 Dir(s)  400,830,816,256 bytes free\n"
     ]
    }
   ],
   "source": [
    "!dir"
   ]
  },
  {
   "cell_type": "code",
   "execution_count": 2,
   "id": "11d51413-c4c8-4238-9c7b-8d62d8c999d9",
   "metadata": {},
   "outputs": [
    {
     "name": "stdout",
     "output_type": "stream",
     "text": [
      "Initialized empty Git repository in D:/РЈС‡С‘Р±Р°/5th_year/Vega/FinanceEconometrics/Project1_new/.git/\n"
     ]
    }
   ],
   "source": [
    "!git init"
   ]
  },
  {
   "cell_type": "code",
   "execution_count": 3,
   "id": "3d23b783-6d77-417c-b406-cc26edd3bba4",
   "metadata": {},
   "outputs": [],
   "source": [
    "!git config --global user.name \"Максим Кирякин\"\n",
    "!git config --global user.email \"makxim,kiryakin@gmail.com\""
   ]
  },
  {
   "cell_type": "code",
   "execution_count": 4,
   "id": "549cb547-8d4c-49f4-80ef-7a817d6218d1",
   "metadata": {},
   "outputs": [],
   "source": [
    "!git remote add origin https://github.com/MaximKiryakin/Vega.git"
   ]
  },
  {
   "cell_type": "code",
   "execution_count": 5,
   "id": "6e778861-3aa6-49e7-8755-20b377602c16",
   "metadata": {},
   "outputs": [
    {
     "name": "stdout",
     "output_type": "stream",
     "text": [
      "origin\thttps://github.com/MaximKiryakin/Vega.git (fetch)\n",
      "origin\thttps://github.com/MaximKiryakin/Vega.git (push)\n"
     ]
    }
   ],
   "source": [
    "!git remote -v"
   ]
  },
  {
   "cell_type": "code",
   "execution_count": 10,
   "id": "c300d47d-d2cd-4a77-beee-3db27ecb93d9",
   "metadata": {},
   "outputs": [
    {
     "name": "stderr",
     "output_type": "stream",
     "text": [
      "From https://github.com/MaximKiryakin/Vega\n",
      " * branch            main       -> FETCH_HEAD\n"
     ]
    }
   ],
   "source": [
    "!git pull origin main"
   ]
  },
  {
   "cell_type": "code",
   "execution_count": 11,
   "id": "49f71ceb-7849-451a-821c-d1048370a353",
   "metadata": {},
   "outputs": [
    {
     "name": "stdout",
     "output_type": "stream",
     "text": [
      "* master\n",
      "  remotes/origin/main\n"
     ]
    }
   ],
   "source": [
    "!git branch -a"
   ]
  }
 ],
 "metadata": {
  "kernelspec": {
   "display_name": "Python 3 (ipykernel)",
   "language": "python",
   "name": "python3"
  },
  "language_info": {
   "codemirror_mode": {
    "name": "ipython",
    "version": 3
   },
   "file_extension": ".py",
   "mimetype": "text/x-python",
   "name": "python",
   "nbconvert_exporter": "python",
   "pygments_lexer": "ipython3",
   "version": "3.10.13"
  }
 },
 "nbformat": 4,
 "nbformat_minor": 5
}
