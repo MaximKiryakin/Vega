{
 "cells": [
  {
   "cell_type": "markdown",
   "id": "e5cb9eb4-6d9f-4521-91d6-ca6a35bd30bc",
   "metadata": {},
   "source": [
    "**Лабораторная работа 1**\n",
    "\n",
    "**Выполнил: Кирякин Максим**\n",
    "\n",
    "**Дата:** `3/9/2025`"
   ]
  },
  {
   "cell_type": "markdown",
   "id": "aa43c86f-974e-42f7-9afc-e81ec2ea0229",
   "metadata": {},
   "source": [
    "## Set up"
   ]
  },
  {
   "cell_type": "code",
   "execution_count": 1,
   "id": "0f1e106f-7ccc-4b55-a888-59e5d691f061",
   "metadata": {},
   "outputs": [],
   "source": [
    "import numpy as np\n",
    "import os\n",
    "import pandas as pd\n",
    "from tqdm import tqdm\n",
    "from statsmodels.tsa.stattools import acf\n",
    "\n",
    "from utils.utils import *"
   ]
  },
  {
   "cell_type": "markdown",
   "id": "65178028-12d5-4195-9b12-fcb638738537",
   "metadata": {},
   "source": [
    "## Part 1"
   ]
  },
  {
   "cell_type": "code",
   "execution_count": 2,
   "id": "0f95ff04-32ea-402d-92dd-256140bbddc6",
   "metadata": {},
   "outputs": [],
   "source": [
    "# specification\n",
    "\n",
    "config = {\n",
    "    'S0':     100,    # цена актива в начальный момент времени\n",
    "    'r':      0.05,   # безрисковая ставка\n",
    "    'q':      0.02,   # дивидендная доходность\n",
    "    'sigma':  0.3,    # стандартное отклонение\n",
    "    'gamma':  0.75,   # \n",
    "    'T':      1.0,    # 'дата' экспирации контракта\n",
    "}\n",
    "n = 12     # число выплат\n",
    "N_list = np.arange(1000, 10000, 1000)#[1000, 10_000, 50_000] # число симуляций\n",
    "m_list = np.arange(10, 1000, 100)#[10, 50, 100]          # число шагов дискретизации"
   ]
  },
  {
   "cell_type": "code",
   "execution_count": 3,
   "id": "d1ab7418-2df7-45d5-acd3-0cff6be5fc10",
   "metadata": {},
   "outputs": [
    {
     "name": "stdout",
     "output_type": "stream",
     "text": [
      "График `Graphs of 15 random trajectories of CEV process.` был сохранен: logs/graphs/cev_mc.png\n"
     ]
    }
   ],
   "source": [
    "paths = simulate_cev(\n",
    "    S0=config['S0'],\n",
    "    r=config['r'],\n",
    "    q=config['q'],\n",
    "    sigma=config['sigma'],\n",
    "    gamma=config['gamma'],\n",
    "    T=config['T'],\n",
    "    m=100, N=1000\n",
    ")\n",
    "plot_mc_paths(paths, num_paths=15)"
   ]
  },
  {
   "cell_type": "code",
   "execution_count": 37,
   "id": "6e903672-19e4-4c6a-a362-52843f6e0985",
   "metadata": {},
   "outputs": [],
   "source": [
    "# некоторые простые проверки\n",
    "assert np.allclose(paths[:, 0], config['S0']), \"Начальное условие S0 не соблюдается!\"\n",
    "assert np.all(paths >= 0), \"Обнаружены отрицательные значения цены!\"\n",
    "assert (acf(np.diff(paths, axis=1)[1, :], nlags=20, fft=True)[1:] < 1e-1).all(), \"Есть корреляция приращений!\""
   ]
  },
  {
   "cell_type": "code",
   "execution_count": 4,
   "id": "a7e41ff5-e38c-43bb-a856-3ca8c44230de",
   "metadata": {},
   "outputs": [
    {
     "name": "stderr",
     "output_type": "stream",
     "text": [
      "100%|█████████████████████████████████████████████| 9/9 [00:36<00:00,  4.07s/it]\n"
     ]
    },
    {
     "data": {
      "text/html": [
       "<div>\n",
       "<style scoped>\n",
       "    .dataframe tbody tr th:only-of-type {\n",
       "        vertical-align: middle;\n",
       "    }\n",
       "\n",
       "    .dataframe tbody tr th {\n",
       "        vertical-align: top;\n",
       "    }\n",
       "\n",
       "    .dataframe thead th {\n",
       "        text-align: right;\n",
       "    }\n",
       "</style>\n",
       "<table border=\"1\" class=\"dataframe\">\n",
       "  <thead>\n",
       "    <tr style=\"text-align: right;\">\n",
       "      <th></th>\n",
       "      <th>10</th>\n",
       "      <th>110</th>\n",
       "      <th>210</th>\n",
       "      <th>310</th>\n",
       "      <th>410</th>\n",
       "      <th>510</th>\n",
       "      <th>610</th>\n",
       "      <th>710</th>\n",
       "      <th>810</th>\n",
       "      <th>910</th>\n",
       "    </tr>\n",
       "    <tr>\n",
       "      <th>N/m</th>\n",
       "      <th></th>\n",
       "      <th></th>\n",
       "      <th></th>\n",
       "      <th></th>\n",
       "      <th></th>\n",
       "      <th></th>\n",
       "      <th></th>\n",
       "      <th></th>\n",
       "      <th></th>\n",
       "      <th></th>\n",
       "    </tr>\n",
       "  </thead>\n",
       "  <tbody>\n",
       "    <tr>\n",
       "      <th>1000</th>\n",
       "      <td>13.40</td>\n",
       "      <td>14.10</td>\n",
       "      <td>14.36</td>\n",
       "      <td>14.39</td>\n",
       "      <td>14.20</td>\n",
       "      <td>14.09</td>\n",
       "      <td>14.48</td>\n",
       "      <td>14.28</td>\n",
       "      <td>14.43</td>\n",
       "      <td>14.45</td>\n",
       "    </tr>\n",
       "    <tr>\n",
       "      <th>2000</th>\n",
       "      <td>13.60</td>\n",
       "      <td>14.60</td>\n",
       "      <td>14.38</td>\n",
       "      <td>14.33</td>\n",
       "      <td>14.54</td>\n",
       "      <td>14.18</td>\n",
       "      <td>14.50</td>\n",
       "      <td>14.46</td>\n",
       "      <td>14.37</td>\n",
       "      <td>14.39</td>\n",
       "    </tr>\n",
       "    <tr>\n",
       "      <th>3000</th>\n",
       "      <td>13.12</td>\n",
       "      <td>14.43</td>\n",
       "      <td>14.69</td>\n",
       "      <td>14.52</td>\n",
       "      <td>14.25</td>\n",
       "      <td>14.46</td>\n",
       "      <td>14.52</td>\n",
       "      <td>14.51</td>\n",
       "      <td>14.41</td>\n",
       "      <td>14.55</td>\n",
       "    </tr>\n",
       "    <tr>\n",
       "      <th>4000</th>\n",
       "      <td>13.26</td>\n",
       "      <td>14.35</td>\n",
       "      <td>14.49</td>\n",
       "      <td>14.60</td>\n",
       "      <td>14.62</td>\n",
       "      <td>14.24</td>\n",
       "      <td>14.48</td>\n",
       "      <td>14.45</td>\n",
       "      <td>14.40</td>\n",
       "      <td>14.31</td>\n",
       "    </tr>\n",
       "    <tr>\n",
       "      <th>5000</th>\n",
       "      <td>13.24</td>\n",
       "      <td>14.49</td>\n",
       "      <td>14.34</td>\n",
       "      <td>14.37</td>\n",
       "      <td>14.24</td>\n",
       "      <td>14.37</td>\n",
       "      <td>14.43</td>\n",
       "      <td>14.50</td>\n",
       "      <td>14.45</td>\n",
       "      <td>14.44</td>\n",
       "    </tr>\n",
       "    <tr>\n",
       "      <th>6000</th>\n",
       "      <td>13.17</td>\n",
       "      <td>14.37</td>\n",
       "      <td>14.26</td>\n",
       "      <td>14.52</td>\n",
       "      <td>14.52</td>\n",
       "      <td>14.38</td>\n",
       "      <td>14.49</td>\n",
       "      <td>14.54</td>\n",
       "      <td>14.29</td>\n",
       "      <td>14.35</td>\n",
       "    </tr>\n",
       "    <tr>\n",
       "      <th>7000</th>\n",
       "      <td>13.41</td>\n",
       "      <td>14.37</td>\n",
       "      <td>14.48</td>\n",
       "      <td>14.44</td>\n",
       "      <td>14.36</td>\n",
       "      <td>14.41</td>\n",
       "      <td>14.42</td>\n",
       "      <td>14.51</td>\n",
       "      <td>14.50</td>\n",
       "      <td>14.50</td>\n",
       "    </tr>\n",
       "    <tr>\n",
       "      <th>8000</th>\n",
       "      <td>13.17</td>\n",
       "      <td>14.51</td>\n",
       "      <td>14.46</td>\n",
       "      <td>14.40</td>\n",
       "      <td>14.51</td>\n",
       "      <td>14.30</td>\n",
       "      <td>14.45</td>\n",
       "      <td>14.37</td>\n",
       "      <td>14.42</td>\n",
       "      <td>14.38</td>\n",
       "    </tr>\n",
       "    <tr>\n",
       "      <th>9000</th>\n",
       "      <td>13.19</td>\n",
       "      <td>14.47</td>\n",
       "      <td>14.58</td>\n",
       "      <td>14.59</td>\n",
       "      <td>14.36</td>\n",
       "      <td>14.43</td>\n",
       "      <td>14.47</td>\n",
       "      <td>14.46</td>\n",
       "      <td>14.46</td>\n",
       "      <td>14.49</td>\n",
       "    </tr>\n",
       "  </tbody>\n",
       "</table>\n",
       "</div>"
      ],
      "text/plain": [
       "         10    110    210    310    410    510    610    710    810    910\n",
       "N/m                                                                       \n",
       "1000  13.40  14.10  14.36  14.39  14.20  14.09  14.48  14.28  14.43  14.45\n",
       "2000  13.60  14.60  14.38  14.33  14.54  14.18  14.50  14.46  14.37  14.39\n",
       "3000  13.12  14.43  14.69  14.52  14.25  14.46  14.52  14.51  14.41  14.55\n",
       "4000  13.26  14.35  14.49  14.60  14.62  14.24  14.48  14.45  14.40  14.31\n",
       "5000  13.24  14.49  14.34  14.37  14.24  14.37  14.43  14.50  14.45  14.44\n",
       "6000  13.17  14.37  14.26  14.52  14.52  14.38  14.49  14.54  14.29  14.35\n",
       "7000  13.41  14.37  14.48  14.44  14.36  14.41  14.42  14.51  14.50  14.50\n",
       "8000  13.17  14.51  14.46  14.40  14.51  14.30  14.45  14.37  14.42  14.38\n",
       "9000  13.19  14.47  14.58  14.59  14.36  14.43  14.47  14.46  14.46  14.49"
      ]
     },
     "execution_count": 4,
     "metadata": {},
     "output_type": "execute_result"
    }
   ],
   "source": [
    "# Генерация таблицы\n",
    "ans = []\n",
    "for N in tqdm(N_list):\n",
    "    row = [N]\n",
    "    for m in m_list:\n",
    "        paths = simulate_cev(**config, N=N, m=m)\n",
    "        price, _ = cliquet_price(**config, N=N, n=n, m=m, paths=paths)\n",
    "        row.append(np.round(price, 2))\n",
    "    ans.append(row)\n",
    "\n",
    "pd.DataFrame(ans, columns=['N/m'] + list(m_list)).set_index('N/m')"
   ]
  },
  {
   "cell_type": "markdown",
   "id": "b3adac48-eed4-4a61-b721-db80121f7425",
   "metadata": {},
   "source": [
    "**Выводы:** "
   ]
  },
  {
   "cell_type": "code",
   "execution_count": null,
   "id": "cf698669-1d6b-42fa-8e88-42b62d2ca89e",
   "metadata": {},
   "outputs": [],
   "source": []
  },
  {
   "cell_type": "code",
   "execution_count": null,
   "id": "28d2b600-4ffd-4ce0-abd8-1476976f8435",
   "metadata": {},
   "outputs": [],
   "source": []
  },
  {
   "cell_type": "code",
   "execution_count": null,
   "id": "4aecae34-9ccc-48f8-993e-2ddf35a49e14",
   "metadata": {},
   "outputs": [],
   "source": []
  }
 ],
 "metadata": {
  "kernelspec": {
   "display_name": "Python 3 (ipykernel)",
   "language": "python",
   "name": "python3"
  },
  "language_info": {
   "codemirror_mode": {
    "name": "ipython",
    "version": 3
   },
   "file_extension": ".py",
   "mimetype": "text/x-python",
   "name": "python",
   "nbconvert_exporter": "python",
   "pygments_lexer": "ipython3",
   "version": "3.12.2"
  }
 },
 "nbformat": 4,
 "nbformat_minor": 5
}
