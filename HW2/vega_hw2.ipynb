{
 "cells": [
  {
   "cell_type": "markdown",
   "id": "7f229407",
   "metadata": {
    "id": "7f229407"
   },
   "source": [
    "### Task 1. Form the following block and calculate its hash."
   ]
  },
  {
   "cell_type": "code",
   "execution_count": null,
   "id": "c6f628a9",
   "metadata": {},
   "outputs": [],
   "source": [
    "{\n",
    "    'index': 4,\n",
    "    'timestamp': 0,\n",
    "    'previous_hash':'0009e52e043a9f83524d01485dda65fe16b6d0dd4239c1c938834be249a432e3',\n",
    "    'nonce': 0,\n",
    "    'author': 'Satoshi',\n",
    "    'transactions': [\n",
    "        {\n",
    "            'sender_address': 'Alice',\n",
    "            'recipient_address': 'Bob',\n",
    "            'value': 10,\n",
    "            'data': 'Hello Bob!',\n",
    "        },\n",
    "        {\n",
    "            'sender_address': 'Bob',\n",
    "            'recipient_address': 'Alice',\n",
    "            'value': 5,\n",
    "            'data': 'Hello Alice!',\n",
    "        }\n",
    "    ]\n",
    "}\n",
    "pass"
   ]
  },
  {
   "cell_type": "markdown",
   "id": "efca0e36",
   "metadata": {},
   "source": [
    "#### Solution"
   ]
  },
  {
   "cell_type": "code",
   "execution_count": 2,
   "id": "70b4244c",
   "metadata": {
    "id": "70b4244c"
   },
   "outputs": [
    {
     "name": "stdout",
     "output_type": "stream",
     "text": [
      "'e02f8bf9303b7b42b77e313887564761dd4923104a9a4d399161adf945b6f064'\n"
     ]
    }
   ],
   "source": [
    "from pprint import pprint\n",
    "from blockchain.block import Block\n",
    "from blockchain.transaction import Transaction\n",
    "\n",
    "transactions = [\n",
    "    Transaction('Alice', 'Bob', 10, 'Hello Bob!'),\n",
    "    Transaction('Bob', 'Alice', 5, 'Hello Alice!'),\n",
    "]\n",
    "\n",
    "b = Block(\n",
    "    index=4, transactions=transactions, author='Satoshi', timestamp=0, nonce=0,\n",
    "    previous_hash='0009e52e043a9f83524d01485dda65fe16b6d0dd4239c1c938834be249a432e3'\n",
    ")\n",
    "pprint(b.compute_hash())"
   ]
  },
  {
   "cell_type": "markdown",
   "id": "572b0145",
   "metadata": {
    "id": "572b0145"
   },
   "source": [
    "### Task 2. Run PoW algorithm and find the proof of this block (from task1) with difficulty=3."
   ]
  },
  {
   "cell_type": "code",
   "execution_count": 6,
   "id": "9fe0c7de",
   "metadata": {},
   "outputs": [
    {
     "name": "stdout",
     "output_type": "stream",
     "text": [
      "Found proof: 1021\n",
      "Hash: 0002e55332ede6e065fdc770f1ba8c026dbfa86b076a4369cf3aa49913629e21\n",
      "attempts: 1022\n"
     ]
    }
   ],
   "source": [
    "transactions = [\n",
    "    Transaction('Alice', 'Bob', 10, 'Hello Bob!'),\n",
    "    Transaction('Bob', 'Alice', 5, 'Hello Alice!'),\n",
    "]\n",
    "\n",
    "b = Block(\n",
    "    index=4, transactions=transactions, author='Satoshi', timestamp=0, nonce=0,\n",
    "    previous_hash='0009e52e043a9f83524d01485dda65fe16b6d0dd4239c1c938834be249a432e3'\n",
    ")\n",
    "\n",
    "difficulty = 3\n",
    "target_prefix = '0' * difficulty\n",
    "\n",
    "nonce = 0\n",
    "while True:\n",
    "    b.nonce = nonce\n",
    "    h = b.compute_hash()\n",
    "    if h.startswith(target_prefix):\n",
    "        print('Found proof:', nonce)\n",
    "        print('Hash:', h)\n",
    "        print(f'attempts: {nonce+1}')\n",
    "        break\n",
    "    nonce += 1"
   ]
  },
  {
   "cell_type": "markdown",
   "id": "41fee8b9",
   "metadata": {
    "id": "41fee8b9"
   },
   "source": [
    "### Task 3.  Init single peer and mine 2 blocks with the same 2 transactions from the task1. Why hashes for these blocks are not the same?"
   ]
  },
  {
   "cell_type": "code",
   "execution_count": 5,
   "id": "e8a74528",
   "metadata": {},
   "outputs": [
    {
     "name": "stdout",
     "output_type": "stream",
     "text": [
      "First block index: 1\n",
      "First block hash:  00d6390eab33822792658d04c66428b198a739878f268a751f95a722058a7165\n",
      "Second block index: 2\n",
      "Second block hash: 00826a15d9614c7912336b4db98369e6e9334b13ec4419ed8581d5f80a65ecab\n",
      "First compute_hash: da61a314390abed9188ffed565779b8b474e12e1d77a1531e67af06cad36710f\n",
      "Second compute_hash: 9a3781abca0ca3bacb350c818680c69fe207b8e1847aa99ec84038d989972a18\n"
     ]
    }
   ],
   "source": [
    "from blockchain.peer import BlockchainPeer\n",
    "from blockchain.transaction import Transaction\n",
    "\n",
    "peer = BlockchainPeer('Satoshi')\n",
    "transactions = [\n",
    "    Transaction('Alice', 'Bob', 10, 'Hello Bob!'),\n",
    "    Transaction('Bob', 'Alice', 5, 'Hello Alice!')\n",
    "]\n",
    "\n",
    "for tx in transactions:\n",
    "    peer.add_new_transaction(tx)\n",
    "peer.mine()\n",
    "\n",
    "first = peer.chain[-1]\n",
    "print('First block index:', first.index)\n",
    "print('First block hash: ', first.hash)\n",
    "\n",
    "for tx in transactions:\n",
    "    peer.add_new_transaction(tx)\n",
    "peer.mine()\n",
    "second = peer.chain[-1]\n",
    "print('Second block index:', second.index)\n",
    "print('Second block hash:', second.hash)\n",
    "\n",
    "# Show compute_hash for comparison\n",
    "print('First compute_hash:', first.compute_hash())\n",
    "print('Second compute_hash:', second.compute_hash())"
   ]
  },
  {
   "cell_type": "markdown",
   "id": "6c430ea2",
   "metadata": {},
   "source": [
    "**Why hashes for these blocks are not the same?**\n",
    "\n",
    "Although the transactions are identical, the block hashes differ because blocks also include changing fields such as timestamp, nonce, and previous_hash."
   ]
  },
  {
   "cell_type": "markdown",
   "id": "0e9ff3f1",
   "metadata": {},
   "source": [
    "### Task 4. Mine 100 blocks (in 1 block should be max 5 transactions) with 5 peers. Plot a distribution of mined blocks by each peer. Which peer will have the most mined blocks with N>>100 in distributed (async) case?"
   ]
  },
  {
   "cell_type": "code",
   "execution_count": null,
   "id": "f178a497",
   "metadata": {},
   "outputs": [
    {
     "name": "stdout",
     "output_type": "stream",
     "text": [
      "{'Peer1': 19, 'Peer2': 23, 'Peer3': 19, 'Peer4': 23, 'Peer5': 16}\n",
      "Saved plot to hw2_task4.png\n"
     ]
    },
    {
     "data": {
      "image/png": "[encoded data removed]",
      "text/plain": [
       "<Figure size 800x400 with 1 Axes>"
      ]
     },
     "metadata": {},
     "output_type": "display_data"
    }
   ],
   "source": [
    "from blockchain.peer import BlockchainPeer\n",
    "from blockchain.transaction import Transaction\n",
    "import random\n",
    "from collections import Counter\n",
    "import matplotlib.pyplot as plt\n",
    "\n",
    "# Parameters\n",
    "N = 100\n",
    "PEERS = 5\n",
    "MAX_TX_PER_BLOCK = 5\n",
    "\n",
    "peers = [BlockchainPeer(f'Peer{i}') for i in range(1, PEERS+1)]\n",
    "\n",
    "# Simple mining loop: randomly choose a peer to mine a block with up to MAX_TX_PER_BLOCK random txs\n",
    "for _ in range(N):\n",
    "    miner = random.choice(peers)\n",
    "    tx_count = random.randint(1, MAX_TX_PER_BLOCK)\n",
    "    for j in range(tx_count):\n",
    "        sender = f'Alice{random.randint(1,10)}'\n",
    "        recipient = f'Bob{random.randint(1,10)}'\n",
    "        miner.add_new_transaction(Transaction(sender, recipient, random.randint(1,100), 'data'))\n",
    "    miner.mine()\n",
    "\n",
    "# Count mined blocks per peer (chain length minus genesis)\n",
    "counts = {peer.peer_name: len(peer.chain)-1 for peer in peers}\n",
    "print(counts)\n",
    "\n",
    "# Plot\n",
    "names = list(counts.keys()b)\n",
    "values = [counts[n] for n in names]\n",
    "plt.figure(figsize=(8,4))\n",
    "plt.bar(names, values)\n",
    "plt.title('Mined blocks per peer (N=100)')\n",
    "plt.xlabel('Peer')\n",
    "plt.ylabel('Blocks mined')\n",
    "plt.tight_layout()\n",
    "plt.savefig('hw2_task4.png')\n",
    "print('Saved plot to hw2_task4.png')\n"
   ]
  },
  {
   "cell_type": "markdown",
   "id": "4946cbc1",
   "metadata": {},
   "source": [
    "For N >> 100 in an asynchronous distributed setup, the peer with slightly better luck or lower latency tends to mine more — but statistically, with equal mining power, counts will converge to roughly equal shares (binomial/Poisson fluctuations)"
   ]
  },
  {
   "cell_type": "markdown",
   "id": "e1ef8e6b",
   "metadata": {
    "id": "e1ef8e6b"
   },
   "source": [
    "### Task5. Suppose all blocks have the same timestamp as the genesis block. Mine 5 blocks with transactions from task1 - use the peer name 'Satoshi'. Use the template below to override the updated mine() function with fixed timestamp.\n",
    "\n",
    "### Find the hash of the block after the block from the task2."
   ]
  },
  {
   "cell_type": "code",
   "execution_count": null,
   "id": "37a3d0ec",
   "metadata": {
    "id": "37a3d0ec"
   },
   "outputs": [],
   "source": [
    "from blockchain import BlockchainPeer, BlockchainMainnet\n",
    "import time\n",
    "\n",
    "class FixedTimeBlockchainPeer(BlockchainPeer):\n",
    "\n",
    "    def mine(self):\n",
    "        \"\"\"\n",
    "        Mine a block but force the timestamp to the genesis timestamp (0).\n",
    "        This keeps all blocks with the same timestamp as genesis.\n",
    "        \"\"\"\n",
    "        # same logic as parent, but use fixed timestamp=0\n",
    "        logging.info(f\"{self.peer_name} | Start mining (fixed time)\")\n",
    "\n",
    "        if not self.unconfirmed_transactions:\n",
    "            logging.info(f\"{self.peer_name} | No transactions to mine\")\n",
    "            return\n",
    "\n",
    "        last_block = self.last_block\n",
    "        # Force timestamp to genesis timestamp (0)\n",
    "        fixed_timestamp = 0\n",
    "        new_block = Block(\n",
    "            index=last_block.index + 1,\n",
    "            transactions=self.unconfirmed_transactions,\n",
    "            author=self.peer_name,\n",
    "            timestamp=fixed_timestamp,\n",
    "            previous_hash=last_block.hash,\n",
    "            nonce=0,\n",
    "        )\n",
    "        proof = self.proof_of_work(new_block)\n",
    "        logging.info(f\"{self.peer_name} | Found proof {proof} (fixed time)\")\n",
    "        self._add_block(new_block, proof)\n",
    "        self.unconfirmed_transactions = []\n",
    "        self._announce()"
   ]
  },
  {
   "cell_type": "code",
   "execution_count": null,
   "id": "7d13a133",
   "metadata": {},
   "outputs": [],
   "source": []
  },
  {
   "cell_type": "markdown",
   "id": "3aec1359",
   "metadata": {},
   "source": [
    "#### Task 5 result:\n",
    "Hash of the block at index 5 (all timestamps fixed to genesis timestamp=0):\n",
    "`0000b74269d01b5160e499123ffa0e78e0d24ab0b9145cb06fcb4188cc43bdd9`"
   ]
  },
  {
   "cell_type": "code",
   "execution_count": null,
   "id": "5460ee26",
   "metadata": {},
   "outputs": [],
   "source": [
    "# Task5: Mine 5 blocks with FixedTimeBlockchainPeer (all timestamps = 0) and print hash of the block after the PoW block\n",
    "from blockchain.transaction import Transaction\n",
    "from blockchain.block import Block\n",
    "import logging\n",
    "\n",
    "# set difficulty to 3 for PoW as requested\n",
    "from blockchain.peer import BlockchainPeer\n",
    "BlockchainPeer.difficulty = 3\n",
    "\n",
    "peer = FixedTimeBlockchainPeer('Satoshi')\n",
    "txs = [\n",
    "    Transaction('Alice', 'Bob', 10, 'Hello Bob!'),\n",
    "    Transaction('Bob', 'Alice', 5, 'Hello Alice!')\n",
    "]\n",
    "\n",
    "# Mine 5 blocks\n",
    "for i in range(5):\n",
    "    for tx in txs:\n",
    "        peer.add_new_transaction(tx)\n",
    "    peer.mine()\n",
    "    print(f'Mined block index: {peer.last_block.index}, hash: {peer.last_block.hash}')\n",
    "\n",
    "# The block after the block from Task2: assuming Task2 block had index 4, the block after it is index 5\n",
    "# Print block with index 5 if exists\n",
    "target_index = 5\n",
    "if len(peer.chain) > target_index:\n",
    "    b = peer.chain[target_index]\n",
    "    print('Block at index 5 hash:', b.hash)\n",
    "else:\n",
    "    print('Chain too short, length=', len(peer.chain))"
   ]
  },
  {
   "cell_type": "markdown",
   "id": "6b5f14bb",
   "metadata": {},
   "source": []
  },
  {
   "cell_type": "code",
   "execution_count": null,
   "id": "871c9579",
   "metadata": {
    "id": "871c9579"
   },
   "outputs": [],
   "source": []
  }
 ],
 "metadata": {
  "colab": {
   "provenance": []
  },
  "kernelspec": {
   "display_name": "HW2_enviroment",
   "language": "python",
   "name": "env"
  },
  "language_info": {
   "codemirror_mode": {
    "name": "ipython",
    "version": 3
   },
   "file_extension": ".py",
   "mimetype": "text/x-python",
   "name": "python",
   "nbconvert_exporter": "python",
   "pygments_lexer": "ipython3",
   "version": "3.11.9"
  }
 },
 "nbformat": 4,
 "nbformat_minor": 5
}
