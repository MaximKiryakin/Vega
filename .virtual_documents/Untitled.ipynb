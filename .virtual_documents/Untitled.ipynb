!git init


!git config --global user.name "Maxim Kiryakin"
!git config --global user.emale "makxim.kiryakin@gmail.com"





