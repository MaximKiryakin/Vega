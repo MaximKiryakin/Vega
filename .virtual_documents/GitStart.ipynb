import os
import pickle


workingPath = f"/home/maxim/Projects/Vega/11"
os.chdir(workingPath)


with open("tokens.pkl", "rb") as f:
    tokens = pickle.load(f)


!ls -a


#!git init


#!git config --global user.name "Maxim Kiryakin"
#!git config --global user.email "makxim.kiryakin@gmail.com"


!git remote add origin https://{tokens["vega"]}@github.com/MaximKiryakin/Vega.git


!git remote -v


!git checkout -b FinanceEconometrics/Project1


!git branch


!git pull origin FinanceEconometrics/Project1


!git branch -a


!git status


!git add --all


!git commit -m "version 1.1"


!git reset HEAD^


!git log


!git push origin main



